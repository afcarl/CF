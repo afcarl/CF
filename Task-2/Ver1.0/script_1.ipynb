{
 "metadata": {
  "name": "script_1.ipynb"
 },
 "nbformat": 3,
 "nbformat_minor": 0,
 "worksheets": [
  {
   "cells": [
    {
     "cell_type": "code",
     "collapsed": false,
     "input": [
      "import numpy as np\n",
      "import pandas as pd\n",
      "import numpy.matlib"
     ],
     "language": "python",
     "metadata": {},
     "outputs": [],
     "prompt_number": 11
    },
    {
     "cell_type": "code",
     "collapsed": false,
     "input": [
      "data=np.loadtxt(\"C:\\Users\\manojg\\Dropbox\\CF_Task_2\\ml-100k\\u1.base\",delimiter='\\t',dtype=[('user','<i8'),('item','<i8'),('ratings','<i8'),('timestamp',np.int64)])"
     ],
     "language": "python",
     "metadata": {},
     "outputs": [],
     "prompt_number": 12
    },
    {
     "cell_type": "code",
     "collapsed": false,
     "input": [
      "dataset=pd.DataFrame(data);\n",
      "dataset"
     ],
     "language": "python",
     "metadata": {},
     "outputs": [
      {
       "html": [
        "<pre>\n",
        "&lt;class 'pandas.core.frame.DataFrame'&gt;\n",
        "Int64Index: 80000 entries, 0 to 79999\n",
        "Data columns (total 4 columns):\n",
        "user         80000  non-null values\n",
        "item         80000  non-null values\n",
        "ratings      80000  non-null values\n",
        "timestamp    80000  non-null values\n",
        "dtypes: int64(4)\n",
        "</pre>"
       ],
       "output_type": "pyout",
       "prompt_number": 35,
       "text": [
        "<class 'pandas.core.frame.DataFrame'>\n",
        "Int64Index: 80000 entries, 0 to 79999\n",
        "Data columns (total 4 columns):\n",
        "user         80000  non-null values\n",
        "item         80000  non-null values\n",
        "ratings      80000  non-null values\n",
        "timestamp    80000  non-null values\n",
        "dtypes: int64(4)"
       ]
      }
     ],
     "prompt_number": 35
    },
    {
     "cell_type": "code",
     "collapsed": false,
     "input": [
      "dataset.head()"
     ],
     "language": "python",
     "metadata": {},
     "outputs": [
      {
       "html": [
        "<div style=\"max-height:1000px;max-width:1500px;overflow:auto;\">\n",
        "<table border=\"1\" class=\"dataframe\">\n",
        "  <thead>\n",
        "    <tr style=\"text-align: right;\">\n",
        "      <th></th>\n",
        "      <th>user</th>\n",
        "      <th>item</th>\n",
        "      <th>ratings</th>\n",
        "      <th>timestamp</th>\n",
        "    </tr>\n",
        "  </thead>\n",
        "  <tbody>\n",
        "    <tr>\n",
        "      <th>0</th>\n",
        "      <td> 1</td>\n",
        "      <td> 1</td>\n",
        "      <td> 5</td>\n",
        "      <td> 874965758</td>\n",
        "    </tr>\n",
        "    <tr>\n",
        "      <th>1</th>\n",
        "      <td> 1</td>\n",
        "      <td> 2</td>\n",
        "      <td> 3</td>\n",
        "      <td> 876893171</td>\n",
        "    </tr>\n",
        "    <tr>\n",
        "      <th>2</th>\n",
        "      <td> 1</td>\n",
        "      <td> 3</td>\n",
        "      <td> 4</td>\n",
        "      <td> 878542960</td>\n",
        "    </tr>\n",
        "    <tr>\n",
        "      <th>3</th>\n",
        "      <td> 1</td>\n",
        "      <td> 4</td>\n",
        "      <td> 3</td>\n",
        "      <td> 876893119</td>\n",
        "    </tr>\n",
        "    <tr>\n",
        "      <th>4</th>\n",
        "      <td> 1</td>\n",
        "      <td> 5</td>\n",
        "      <td> 3</td>\n",
        "      <td> 889751712</td>\n",
        "    </tr>\n",
        "  </tbody>\n",
        "</table>\n",
        "</div>"
       ],
       "output_type": "pyout",
       "prompt_number": 36,
       "text": [
        "   user  item  ratings  timestamp\n",
        "0     1     1        5  874965758\n",
        "1     1     2        3  876893171\n",
        "2     1     3        4  878542960\n",
        "3     1     4        3  876893119\n",
        "4     1     5        3  889751712"
       ]
      }
     ],
     "prompt_number": 36
    },
    {
     "cell_type": "code",
     "collapsed": false,
     "input": [
      "dataset.describe()"
     ],
     "language": "python",
     "metadata": {},
     "outputs": [
      {
       "html": [
        "<div style=\"max-height:1000px;max-width:1500px;overflow:auto;\">\n",
        "<table border=\"1\" class=\"dataframe\">\n",
        "  <thead>\n",
        "    <tr style=\"text-align: right;\">\n",
        "      <th></th>\n",
        "      <th>user</th>\n",
        "      <th>item</th>\n",
        "      <th>ratings</th>\n",
        "      <th>timestamp</th>\n",
        "    </tr>\n",
        "  </thead>\n",
        "  <tbody>\n",
        "    <tr>\n",
        "      <th>count</th>\n",
        "      <td> 80000.00000</td>\n",
        "      <td> 80000.000000</td>\n",
        "      <td> 80000.000000</td>\n",
        "      <td> 8.000000e+04</td>\n",
        "    </tr>\n",
        "    <tr>\n",
        "      <th>mean</th>\n",
        "      <td>   525.16570</td>\n",
        "      <td>   425.705200</td>\n",
        "      <td>     3.528350</td>\n",
        "      <td> 8.835645e+08</td>\n",
        "    </tr>\n",
        "    <tr>\n",
        "      <th>std</th>\n",
        "      <td>   255.94956</td>\n",
        "      <td>   331.383936</td>\n",
        "      <td>     1.118565</td>\n",
        "      <td> 5.318611e+06</td>\n",
        "    </tr>\n",
        "    <tr>\n",
        "      <th>min</th>\n",
        "      <td>     1.00000</td>\n",
        "      <td>     1.000000</td>\n",
        "      <td>     1.000000</td>\n",
        "      <td> 8.747247e+08</td>\n",
        "    </tr>\n",
        "    <tr>\n",
        "      <th>25%</th>\n",
        "      <td>   334.00000</td>\n",
        "      <td>   175.000000</td>\n",
        "      <td>     3.000000</td>\n",
        "      <td> 8.794556e+08</td>\n",
        "    </tr>\n",
        "    <tr>\n",
        "      <th>50%</th>\n",
        "      <td>   535.00000</td>\n",
        "      <td>   321.000000</td>\n",
        "      <td>     4.000000</td>\n",
        "      <td> 8.828441e+08</td>\n",
        "    </tr>\n",
        "    <tr>\n",
        "      <th>75%</th>\n",
        "      <td>   744.00000</td>\n",
        "      <td>   631.000000</td>\n",
        "      <td>     4.000000</td>\n",
        "      <td> 8.882676e+08</td>\n",
        "    </tr>\n",
        "    <tr>\n",
        "      <th>max</th>\n",
        "      <td>   943.00000</td>\n",
        "      <td>  1682.000000</td>\n",
        "      <td>     5.000000</td>\n",
        "      <td> 8.932866e+08</td>\n",
        "    </tr>\n",
        "  </tbody>\n",
        "</table>\n",
        "</div>"
       ],
       "output_type": "pyout",
       "prompt_number": 34,
       "text": [
        "              user          item       ratings     timestamp\n",
        "count  80000.00000  80000.000000  80000.000000  8.000000e+04\n",
        "mean     525.16570    425.705200      3.528350  8.835645e+08\n",
        "std      255.94956    331.383936      1.118565  5.318611e+06\n",
        "min        1.00000      1.000000      1.000000  8.747247e+08\n",
        "25%      334.00000    175.000000      3.000000  8.794556e+08\n",
        "50%      535.00000    321.000000      4.000000  8.828441e+08\n",
        "75%      744.00000    631.000000      4.000000  8.882676e+08\n",
        "max      943.00000   1682.000000      5.000000  8.932866e+08"
       ]
      }
     ],
     "prompt_number": 34
    },
    {
     "cell_type": "code",
     "collapsed": false,
     "input": [],
     "language": "python",
     "metadata": {},
     "outputs": [],
     "prompt_number": 90
    },
    {
     "cell_type": "code",
     "collapsed": false,
     "input": [
      "user = dataset.user.unique()"
     ],
     "language": "python",
     "metadata": {},
     "outputs": [],
     "prompt_number": 91
    },
    {
     "cell_type": "code",
     "collapsed": false,
     "input": [
      "df = dataset.copy()\n",
      "df.head()"
     ],
     "language": "python",
     "metadata": {},
     "outputs": [
      {
       "html": [
        "<div style=\"max-height:1000px;max-width:1500px;overflow:auto;\">\n",
        "<table border=\"1\" class=\"dataframe\">\n",
        "  <thead>\n",
        "    <tr style=\"text-align: right;\">\n",
        "      <th></th>\n",
        "      <th>user</th>\n",
        "      <th>item</th>\n",
        "      <th>ratings</th>\n",
        "      <th>timestamp</th>\n",
        "    </tr>\n",
        "  </thead>\n",
        "  <tbody>\n",
        "    <tr>\n",
        "      <th>0</th>\n",
        "      <td> 1</td>\n",
        "      <td> 1</td>\n",
        "      <td> 5</td>\n",
        "      <td> 874965758</td>\n",
        "    </tr>\n",
        "    <tr>\n",
        "      <th>1</th>\n",
        "      <td> 1</td>\n",
        "      <td> 2</td>\n",
        "      <td> 3</td>\n",
        "      <td> 876893171</td>\n",
        "    </tr>\n",
        "    <tr>\n",
        "      <th>2</th>\n",
        "      <td> 1</td>\n",
        "      <td> 3</td>\n",
        "      <td> 4</td>\n",
        "      <td> 878542960</td>\n",
        "    </tr>\n",
        "    <tr>\n",
        "      <th>3</th>\n",
        "      <td> 1</td>\n",
        "      <td> 4</td>\n",
        "      <td> 3</td>\n",
        "      <td> 876893119</td>\n",
        "    </tr>\n",
        "    <tr>\n",
        "      <th>4</th>\n",
        "      <td> 1</td>\n",
        "      <td> 5</td>\n",
        "      <td> 3</td>\n",
        "      <td> 889751712</td>\n",
        "    </tr>\n",
        "  </tbody>\n",
        "</table>\n",
        "</div>"
       ],
       "output_type": "pyout",
       "prompt_number": 92,
       "text": [
        "   user  item  ratings  timestamp\n",
        "0     1     1        5  874965758\n",
        "1     1     2        3  876893171\n",
        "2     1     3        4  878542960\n",
        "3     1     4        3  876893119\n",
        "4     1     5        3  889751712"
       ]
      }
     ],
     "prompt_number": 92
    },
    {
     "cell_type": "code",
     "collapsed": false,
     "input": [
      "df.head()\n",
      "df.ix[df.user == 10].head()"
     ],
     "language": "python",
     "metadata": {},
     "outputs": [
      {
       "html": [
        "<div style=\"max-height:1000px;max-width:1500px;overflow:auto;\">\n",
        "<table border=\"1\" class=\"dataframe\">\n",
        "  <thead>\n",
        "    <tr style=\"text-align: right;\">\n",
        "      <th></th>\n",
        "      <th>user</th>\n",
        "      <th>item</th>\n",
        "      <th>ratings</th>\n",
        "      <th>timestamp</th>\n",
        "    </tr>\n",
        "  </thead>\n",
        "  <tbody>\n",
        "    <tr>\n",
        "      <th>673</th>\n",
        "      <td> 10</td>\n",
        "      <td>  9</td>\n",
        "      <td> 4</td>\n",
        "      <td> 877889005</td>\n",
        "    </tr>\n",
        "    <tr>\n",
        "      <th>674</th>\n",
        "      <td> 10</td>\n",
        "      <td> 11</td>\n",
        "      <td> 4</td>\n",
        "      <td> 877888677</td>\n",
        "    </tr>\n",
        "    <tr>\n",
        "      <th>675</th>\n",
        "      <td> 10</td>\n",
        "      <td> 12</td>\n",
        "      <td> 5</td>\n",
        "      <td> 877886911</td>\n",
        "    </tr>\n",
        "    <tr>\n",
        "      <th>676</th>\n",
        "      <td> 10</td>\n",
        "      <td> 23</td>\n",
        "      <td> 5</td>\n",
        "      <td> 877886911</td>\n",
        "    </tr>\n",
        "    <tr>\n",
        "      <th>677</th>\n",
        "      <td> 10</td>\n",
        "      <td> 32</td>\n",
        "      <td> 4</td>\n",
        "      <td> 877886661</td>\n",
        "    </tr>\n",
        "  </tbody>\n",
        "</table>\n",
        "</div>"
       ],
       "output_type": "pyout",
       "prompt_number": 105,
       "text": [
        "     user  item  ratings  timestamp\n",
        "673    10     9        4  877889005\n",
        "674    10    11        4  877888677\n",
        "675    10    12        5  877886911\n",
        "676    10    23        5  877886911\n",
        "677    10    32        4  877886661"
       ]
      }
     ],
     "prompt_number": 105
    },
    {
     "cell_type": "code",
     "collapsed": false,
     "input": [
      "matrix=np.zeros((943, 1682),dtype=np.int)\n",
      "for i in user:\n",
      "    df_user = (df.ix[df.user == i]).sort('item')\n",
      "    for j in df_user.index:\n",
      "        #print j\n",
      "        item_i = df_user.ix[j]['item']\n",
      "        #print item_i\n",
      "        matrix[i-1][item_i-1] = df_user.ix[j]['ratings']\n",
      "\n"
     ],
     "language": "python",
     "metadata": {},
     "outputs": [],
     "prompt_number": 106
    },
    {
     "cell_type": "code",
     "collapsed": false,
     "input": [
      "print matrix[9][:15]"
     ],
     "language": "python",
     "metadata": {},
     "outputs": [
      {
       "output_type": "stream",
       "stream": "stdout",
       "text": [
        "[0 0 0 0 0 0 0 0 4 0 4 5 0 0 0]\n"
       ]
      }
     ],
     "prompt_number": 108
    },
    {
     "cell_type": "code",
     "collapsed": false,
     "input": [
      "numpy.savetxt(\"matrix.csv\", matrix, delimiter=\",\", fmt='%d')"
     ],
     "language": "python",
     "metadata": {},
     "outputs": [],
     "prompt_number": 110
    },
    {
     "cell_type": "code",
     "collapsed": false,
     "input": [],
     "language": "python",
     "metadata": {},
     "outputs": []
    }
   ],
   "metadata": {}
  }
 ]
}