{
 "metadata": {
  "name": "script_python_book_help.ipynb"
 },
 "nbformat": 3,
 "nbformat_minor": 0,
 "worksheets": [
  {
   "cells": [
    {
     "cell_type": "code",
     "collapsed": false,
     "input": [
      "# Packages imported \n",
      "import numpy as np\n",
      "import matplotlib.pyplot as plt\n",
      "import scipy.spatial.distance\n",
      "import pandas as pd"
     ],
     "language": "python",
     "metadata": {},
     "outputs": [],
     "prompt_number": 1
    },
    {
     "cell_type": "code",
     "collapsed": false,
     "input": [
      "# Column indices\n",
      "rnames = ['user_id', 'item_id', 'rating', 'timestamp']"
     ],
     "language": "python",
     "metadata": {},
     "outputs": [],
     "prompt_number": 2
    },
    {
     "cell_type": "code",
     "collapsed": false,
     "input": [
      "# Load dataset in to ratings dataframe with null header and column indices \"rnames\"\n",
      "ratings = pd.read_table('C:\\Users\\Omkar\\Dropbox\\CF_Task_2\\ml-100k\\u1.base', sep='\\t',header = None,names = rnames)"
     ],
     "language": "python",
     "metadata": {},
     "outputs": [],
     "prompt_number": 3
    },
    {
     "cell_type": "code",
     "collapsed": false,
     "input": [
      "ratings[:5][:5]"
     ],
     "language": "python",
     "metadata": {},
     "outputs": [
      {
       "html": [
        "<div style=\"max-height:1000px;max-width:1500px;overflow:auto;\">\n",
        "<table border=\"1\" class=\"dataframe\">\n",
        "  <thead>\n",
        "    <tr style=\"text-align: right;\">\n",
        "      <th></th>\n",
        "      <th>user_id</th>\n",
        "      <th>item_id</th>\n",
        "      <th>rating</th>\n",
        "      <th>timestamp</th>\n",
        "    </tr>\n",
        "  </thead>\n",
        "  <tbody>\n",
        "    <tr>\n",
        "      <th>0</th>\n",
        "      <td> 1</td>\n",
        "      <td> 1</td>\n",
        "      <td> 5</td>\n",
        "      <td> 874965758</td>\n",
        "    </tr>\n",
        "    <tr>\n",
        "      <th>1</th>\n",
        "      <td> 1</td>\n",
        "      <td> 2</td>\n",
        "      <td> 3</td>\n",
        "      <td> 876893171</td>\n",
        "    </tr>\n",
        "    <tr>\n",
        "      <th>2</th>\n",
        "      <td> 1</td>\n",
        "      <td> 3</td>\n",
        "      <td> 4</td>\n",
        "      <td> 878542960</td>\n",
        "    </tr>\n",
        "    <tr>\n",
        "      <th>3</th>\n",
        "      <td> 1</td>\n",
        "      <td> 4</td>\n",
        "      <td> 3</td>\n",
        "      <td> 876893119</td>\n",
        "    </tr>\n",
        "    <tr>\n",
        "      <th>4</th>\n",
        "      <td> 1</td>\n",
        "      <td> 5</td>\n",
        "      <td> 3</td>\n",
        "      <td> 889751712</td>\n",
        "    </tr>\n",
        "  </tbody>\n",
        "</table>\n",
        "</div>"
       ],
       "output_type": "pyout",
       "prompt_number": 4,
       "text": [
        "   user_id  item_id  rating  timestamp\n",
        "0        1        1       5  874965758\n",
        "1        1        2       3  876893171\n",
        "2        1        3       4  878542960\n",
        "3        1        4       3  876893119\n",
        "4        1        5       3  889751712"
       ]
      }
     ],
     "prompt_number": 4
    },
    {
     "cell_type": "code",
     "collapsed": false,
     "input": [
      "ratings.describe()"
     ],
     "language": "python",
     "metadata": {},
     "outputs": [
      {
       "html": [
        "<div style=\"max-height:1000px;max-width:1500px;overflow:auto;\">\n",
        "<table border=\"1\" class=\"dataframe\">\n",
        "  <thead>\n",
        "    <tr style=\"text-align: right;\">\n",
        "      <th></th>\n",
        "      <th>user_id</th>\n",
        "      <th>item_id</th>\n",
        "      <th>rating</th>\n",
        "      <th>timestamp</th>\n",
        "    </tr>\n",
        "  </thead>\n",
        "  <tbody>\n",
        "    <tr>\n",
        "      <th>count</th>\n",
        "      <td> 80000.00000</td>\n",
        "      <td> 80000.000000</td>\n",
        "      <td> 80000.000000</td>\n",
        "      <td> 8.000000e+04</td>\n",
        "    </tr>\n",
        "    <tr>\n",
        "      <th>mean</th>\n",
        "      <td>   525.16570</td>\n",
        "      <td>   425.705200</td>\n",
        "      <td>     3.528350</td>\n",
        "      <td> 8.835645e+08</td>\n",
        "    </tr>\n",
        "    <tr>\n",
        "      <th>std</th>\n",
        "      <td>   255.94956</td>\n",
        "      <td>   331.383936</td>\n",
        "      <td>     1.118565</td>\n",
        "      <td> 5.318611e+06</td>\n",
        "    </tr>\n",
        "    <tr>\n",
        "      <th>min</th>\n",
        "      <td>     1.00000</td>\n",
        "      <td>     1.000000</td>\n",
        "      <td>     1.000000</td>\n",
        "      <td> 8.747247e+08</td>\n",
        "    </tr>\n",
        "    <tr>\n",
        "      <th>25%</th>\n",
        "      <td>   334.00000</td>\n",
        "      <td>   175.000000</td>\n",
        "      <td>     3.000000</td>\n",
        "      <td> 8.794556e+08</td>\n",
        "    </tr>\n",
        "    <tr>\n",
        "      <th>50%</th>\n",
        "      <td>   535.00000</td>\n",
        "      <td>   321.000000</td>\n",
        "      <td>     4.000000</td>\n",
        "      <td> 8.828441e+08</td>\n",
        "    </tr>\n",
        "    <tr>\n",
        "      <th>75%</th>\n",
        "      <td>   744.00000</td>\n",
        "      <td>   631.000000</td>\n",
        "      <td>     4.000000</td>\n",
        "      <td> 8.882676e+08</td>\n",
        "    </tr>\n",
        "    <tr>\n",
        "      <th>max</th>\n",
        "      <td>   943.00000</td>\n",
        "      <td>  1682.000000</td>\n",
        "      <td>     5.000000</td>\n",
        "      <td> 8.932866e+08</td>\n",
        "    </tr>\n",
        "  </tbody>\n",
        "</table>\n",
        "</div>"
       ],
       "output_type": "pyout",
       "prompt_number": 5,
       "text": [
        "           user_id       item_id        rating     timestamp\n",
        "count  80000.00000  80000.000000  80000.000000  8.000000e+04\n",
        "mean     525.16570    425.705200      3.528350  8.835645e+08\n",
        "std      255.94956    331.383936      1.118565  5.318611e+06\n",
        "min        1.00000      1.000000      1.000000  8.747247e+08\n",
        "25%      334.00000    175.000000      3.000000  8.794556e+08\n",
        "50%      535.00000    321.000000      4.000000  8.828441e+08\n",
        "75%      744.00000    631.000000      4.000000  8.882676e+08\n",
        "max      943.00000   1682.000000      5.000000  8.932866e+08"
       ]
      }
     ],
     "prompt_number": 5
    },
    {
     "cell_type": "code",
     "collapsed": false,
     "input": [
      "users = len(ratings.user_id.unique())# To find total number of users\n",
      "items = len(ratings.item_id.unique())# To find total number of items\n",
      "print users\n",
      "print items"
     ],
     "language": "python",
     "metadata": {},
     "outputs": [
      {
       "output_type": "stream",
       "stream": "stdout",
       "text": [
        "943\n",
        "1650\n"
       ]
      }
     ],
     "prompt_number": 6
    },
    {
     "cell_type": "code",
     "collapsed": false,
     "input": [
      "ck = ratings.rating.hist()\n",
      "ck.set_xlabel('Ratings')\n",
      "ck.set_ylabel('Users')"
     ],
     "language": "python",
     "metadata": {},
     "outputs": [
      {
       "output_type": "pyout",
       "prompt_number": 7,
       "text": [
        "<matplotlib.text.Text at 0x87e4be0>"
       ]
      },
      {
       "output_type": "display_data",
       "png": "[encoded data removed]",
       "text": [
        "<matplotlib.figure.Figure at 0x87db5c0>"
       ]
      },
      {
       "output_type": "pyout",
       "prompt_number": 8,
       "text": [
        "<matplotlib.text.Text at 0x8b26dd8>"
       ]
      },
      {
       "output_type": "display_data",
       "png": "[encoded data removed]",
       "text": [
        "<matplotlib.figure.Figure at 0x8b0fd30>"
       ]
      }
     ],
     "prompt_number": 8
    },
    {
     "cell_type": "code",
     "collapsed": false,
     "input": [
      "# To select based on \"user_id\"s\n",
      "#user_1_ratings_index = np.where(ratings['user_id']==1)"
     ],
     "language": "python",
     "metadata": {},
     "outputs": [],
     "prompt_number": 9
    },
    {
     "cell_type": "code",
     "collapsed": false,
     "input": [
      "df1 = ratings[ratings['user_id']==1] # Dataframe for user-1\n",
      "df2 = ratings[ratings['user_id']==2] # Dataframe for user-2\n",
      "print df1.tail()\n",
      "print df2.tail()"
     ],
     "language": "python",
     "metadata": {},
     "outputs": [
      {
       "output_type": "stream",
       "stream": "stdout",
       "text": [
        "     user_id  item_id  rating  timestamp\n",
        "130        1      263       1  875693007\n",
        "131        1      268       5  875692927\n",
        "132        1      269       5  877482427\n",
        "133        1      270       5  888732827\n",
        "134        1      271       2  887431672\n",
        "     user_id  item_id  rating  timestamp\n",
        "170        2      305       3  888550065\n",
        "171        2      306       4  888550774\n",
        "172        2      309       1  888980029\n",
        "173        2      310       4  888979061\n",
        "174        2      311       5  888552084\n"
       ]
      }
     ],
     "prompt_number": 10
    },
    {
     "cell_type": "code",
     "collapsed": false,
     "input": [
      "def find_intersection(df1,df2):\n",
      "    #ax = df1.item_id.hist()\n",
      "    #ax = df2.item_id.hist()\n",
      "    user1_ratings_index = df1.item_id.values\n",
      "    user2_ratings_index = df2.item_id.values\n",
      "    #print user1_ratings_index\n",
      "    #print user2_ratings_index\n",
      "    intersection = np.intersect1d(user1_ratings_index,user2_ratings_index)\n",
      "    #print intersection\n",
      "    intsec1 = df1.item_id.map(lambda x: x in intersection)\n",
      "    intsec2 = df2.item_id.map(lambda x: x in intersection)\n",
      "    df11 = df1[intsec1]\n",
      "    df22 = df2[intsec2]\n",
      "    ax = df11.item_id.hist()\n",
      "    bx = df22.item_id.hist()\n",
      "    #print df11\n",
      "    #print df22\n",
      "    return [df11,df22]"
     ],
     "language": "python",
     "metadata": {},
     "outputs": [],
     "prompt_number": 11
    },
    {
     "cell_type": "code",
     "collapsed": false,
     "input": [
      "\n",
      "def find_cosine_distance(user_id_1,user_id_2):\n",
      "    df1 = ratings[ratings['user_id']==user_id_1] # Dataframe for user-1\n",
      "    df2 = ratings[ratings['user_id']==user_id_2] # Dataframe for user-2\n",
      "    [df11_1,df22_2] = find_intersection(df1,df2)\n",
      "    #ax = df11_1.item_id.hist()\n",
      "    #bx = df22_2.item_id.hist()\n",
      "    cosine_distance = scipy.spatial.distance.cosine(df11_1.rating.values,df22_2.rating.values)\n",
      "    return cosine_distance"
     ],
     "language": "python",
     "metadata": {},
     "outputs": [],
     "prompt_number": 12
    },
    {
     "cell_type": "code",
     "collapsed": false,
     "input": [
      "def find_manhattan_distance(user_id_1,user_id_2):\n",
      "    df1 = ratings[ratings['user_id']==user_id_1] # Dataframe for user-1\n",
      "    df2 = ratings[ratings['user_id']==user_id_2] # Dataframe for user-2\n",
      "    [df11_1,df22_2] = find_intersection(df1,df2)\n",
      "    #ax = df11_1.item_id.hist()\n",
      "    #bx = df22_2.item_id.hist()\n",
      "    manhattan_distance = scipy.spatial.distance.cityblock(df11_1.rating.values,df22_2.rating.values)\n",
      "    return manhattan_distance"
     ],
     "language": "python",
     "metadata": {},
     "outputs": [],
     "prompt_number": 13
    },
    {
     "cell_type": "code",
     "collapsed": false,
     "input": [
      "def find_correlation(user_id_1,user_id_2):\n",
      "    df1 = ratings[ratings['user_id']==user_id_1] # Dataframe for user-1\n",
      "    df2 = ratings[ratings['user_id']==user_id_2] # Dataframe for user-2\n",
      "    [df11_1,df22_2] = find_intersection(df1,df2)\n",
      "    #ax = df11_1.item_id.hist()\n",
      "    #bx = df22_2.item_id.hist()\n",
      "    correlation = scipy.spatial.distance.correlation(df11_1.rating.values,df22_2.rating.values)\n",
      "    return correlation"
     ],
     "language": "python",
     "metadata": {},
     "outputs": [],
     "prompt_number": 14
    },
    {
     "cell_type": "code",
     "collapsed": false,
     "input": [
      "# Worst Case using mean of ratings to predict ratings for movie\n",
      "\n",
      "\n",
      "\n",
      "\n"
     ],
     "language": "python",
     "metadata": {},
     "outputs": [],
     "prompt_number": 24
    },
    {
     "cell_type": "code",
     "collapsed": false,
     "input": [
      "# References\n",
      "    # http://docs.scipy.org/doc/scipy/reference/spatial.distance.html \n",
      "    # http://docs.scipy.org/doc/numpy/reference/\n",
      "    # "
     ],
     "language": "python",
     "metadata": {},
     "outputs": []
    }
   ],
   "metadata": {}
  }
 ]
}