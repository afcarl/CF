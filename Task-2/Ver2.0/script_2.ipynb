{
 "metadata": {
  "name": "script_2.ipynb"
 },
 "nbformat": 3,
 "nbformat_minor": 0,
 "worksheets": [
  {
   "cells": [
    {
     "cell_type": "code",
     "collapsed": false,
     "input": [
      "import numpy as np\n",
      "import pandas as pd\n",
      "import numpy.matlib\n",
      "from scipy.spatial.distance import pdist"
     ],
     "language": "python",
     "metadata": {},
     "outputs": [],
     "prompt_number": 3
    },
    {
     "cell_type": "code",
     "collapsed": false,
     "input": [
      "matrix=np.loadtxt(\"C:\\Users\\manojg\\Dropbox\\CF_Task_2\\Ver2.0\\matrix.csv\",delimiter=',',dtype=np.int)"
     ],
     "language": "python",
     "metadata": {},
     "outputs": [],
     "prompt_number": 4
    },
    {
     "cell_type": "code",
     "collapsed": false,
     "input": [
      "matrix[0:2,0:5]\n"
     ],
     "language": "python",
     "metadata": {},
     "outputs": [
      {
       "output_type": "pyout",
       "prompt_number": 5,
       "text": [
        "array([[5, 3, 4, 3, 3],\n",
        "       [4, 0, 0, 0, 0]])"
       ]
      }
     ],
     "prompt_number": 5
    },
    {
     "cell_type": "code",
     "collapsed": false,
     "input": [
      "#function to check distance between two users\n",
      "def distance_calc(i,j,matrix,distance_metric):\n",
      "    \n",
      "    #index of ratings rated by both users i.e intersection set\n",
      "    idx = [matrix[i][:]>0] and [matrix[j][:]>0]\n",
      "    print idx\n",
      " #   index = np.where(idx==True)\n",
      "    index = np.where(idx)\n",
      "    print index\n",
      "    #condition to check user choice for manhattan distance\n",
      "   # if distance_metric == 'manhattan':\n",
      "    #    distance=pdist(matrix[i][idx],matrix[j][idx],'cityblock')\n",
      "\n",
      "         "
     ],
     "language": "python",
     "metadata": {},
     "outputs": [],
     "prompt_number": 5
    },
    {
     "cell_type": "code",
     "collapsed": false,
     "input": [
      "distance_calc(0,1,matrix[0:2,0:5],'manhattan')"
     ],
     "language": "python",
     "metadata": {},
     "outputs": [
      {
       "output_type": "stream",
       "stream": "stdout",
       "text": [
        "[array([ True, False, False, False, False], dtype=bool)]\n",
        "(array([0], dtype=int64), array([0], dtype=int64))\n"
       ]
      }
     ],
     "prompt_number": 6
    },
    {
     "cell_type": "code",
     "collapsed": false,
     "input": [
      "a=np.array([1,2,3,4,5,6,7,8,9])\n",
      "b=np.array([10,20,0,40,0,60,0,8,90])"
     ],
     "language": "python",
     "metadata": {},
     "outputs": [],
     "prompt_number": 7
    },
    {
     "cell_type": "code",
     "collapsed": false,
     "input": [],
     "language": "python",
     "metadata": {},
     "outputs": []
    }
   ],
   "metadata": {}
  }
 ]
}