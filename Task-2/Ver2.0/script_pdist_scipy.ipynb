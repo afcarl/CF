{
 "metadata": {
  "name": "script_pdist_scipy.ipynb"
 },
 "nbformat": 3,
 "nbformat_minor": 0,
 "worksheets": [
  {
   "cells": [
    {
     "cell_type": "code",
     "collapsed": false,
     "input": [
      "import numpy as np\n",
      "from scipy.spatial.distance import pdist\n",
      "import pandas as pd\n",
      "#X = np.random.rand(10, 2)"
     ],
     "language": "python",
     "metadata": {},
     "outputs": [],
     "prompt_number": 12
    },
    {
     "cell_type": "code",
     "collapsed": false,
     "input": [
      "X=pd.read_clipboard(header=None)"
     ],
     "language": "python",
     "metadata": {},
     "outputs": [],
     "prompt_number": 13
    },
    {
     "cell_type": "code",
     "collapsed": false,
     "input": [
      "\n",
      "my_dist = pdist(X, \"cityblock\")\n",
      "print X\n",
      "print my_dist\n"
     ],
     "language": "python",
     "metadata": {},
     "outputs": [
      {
       "output_type": "stream",
       "stream": "stdout",
       "text": [
        "     0    1\n",
        "0  3.5  2.0\n",
        "1  2.0  3.5\n",
        "2  NaN  4.0\n",
        "3  4.5  NaN\n",
        "4  5.0  2.0\n",
        "5  1.5  3.5\n",
        "6  2.5  NaN\n",
        "7  2.0  3.0\n",
        "[ 3.   nan  nan  1.5  3.5  nan  2.5  nan  nan  4.5  0.5  nan  0.5  nan  nan\n",
        "  nan  nan  nan  nan  nan  nan  nan  5.   nan  4.   nan  1.   nan]\n"
       ]
      }
     ],
     "prompt_number": 16
    },
    {
     "cell_type": "code",
     "collapsed": false,
     "input": [
      "my_dist"
     ],
     "language": "python",
     "metadata": {},
     "outputs": [
      {
       "output_type": "pyout",
       "prompt_number": 17,
       "text": [
        "array([ 3. ,  nan,  nan,  1.5,  3.5,  nan,  2.5,  nan,  nan,  4.5,  0.5,\n",
        "        nan,  0.5,  nan,  nan,  nan,  nan,  nan,  nan,  nan,  nan,  nan,\n",
        "        5. ,  nan,  4. ,  nan,  1. ,  nan])"
       ]
      }
     ],
     "prompt_number": 17
    },
    {
     "cell_type": "code",
     "collapsed": false,
     "input": [],
     "language": "python",
     "metadata": {},
     "outputs": []
    }
   ],
   "metadata": {}
  }
 ]
}