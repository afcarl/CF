{
 "metadata": {
  "name": "cosine_similarity.ipynb"
 },
 "nbformat": 3,
 "nbformat_minor": 0,
 "worksheets": [
  {
   "cells": [
    {
     "cell_type": "code",
     "collapsed": false,
     "input": [
      "# Packages imported \n",
      "import numpy as np\n",
      "import matplotlib.pyplot as plt\n",
      "import scipy.spatial.distance\n",
      "import pandas as pd\n"
     ],
     "language": "python",
     "metadata": {},
     "outputs": [],
     "prompt_number": 1
    },
    {
     "cell_type": "code",
     "collapsed": false,
     "input": [
      "# Column indices\n",
      "rnames = ['user_id', 'item_id', 'rating', 'timestamp']\n",
      "# Load dataset in to ratings dataframe with null header and column indices \"rnames\"\n",
      "ratings = pd.read_table('C:\\Users\\Omkar\\Dropbox\\CF_Task_2\\ml-100k\\u1.base', sep='\\t',header = None,names = rnames)"
     ],
     "language": "python",
     "metadata": {},
     "outputs": [],
     "prompt_number": 2
    },
    {
     "cell_type": "code",
     "collapsed": false,
     "input": [
      "#ratings[:5][:5]"
     ],
     "language": "python",
     "metadata": {},
     "outputs": [],
     "prompt_number": 4
    },
    {
     "cell_type": "code",
     "collapsed": false,
     "input": [
      "users = max(ratings.user_id.unique())# To find total number of users\n",
      "items = max(ratings.item_id.unique())# To find total number of items \n",
      "# earlier length was used but few movies are missing in between \n",
      "print users\n",
      "print items"
     ],
     "language": "python",
     "metadata": {},
     "outputs": [
      {
       "output_type": "stream",
       "stream": "stdout",
       "text": [
        "943\n",
        "1682\n"
       ]
      }
     ],
     "prompt_number": 5
    },
    {
     "cell_type": "code",
     "collapsed": false,
     "input": [
      "def find_intersection(df1,df2):\n",
      "    #ax = df1.item_id.hist()\n",
      "    #ax = df2.item_id.hist()\n",
      "    user1_ratings_index = df1.item_id.values\n",
      "    user2_ratings_index = df2.item_id.values\n",
      "    #print user1_ratings_index\n",
      "    #print user2_ratings_index\n",
      "    intersection = np.intersect1d(user1_ratings_index,user2_ratings_index)\n",
      "    #print intersection\n",
      "    intsec1 = df1.item_id.map(lambda x: x in intersection)\n",
      "    intsec2 = df2.item_id.map(lambda x: x in intersection)\n",
      "    df11 = df1[intsec1]\n",
      "    df22 = df2[intsec2]\n",
      "    #ax = df11.item_id.hist()\n",
      "    #bx = df22.item_id.hist()\n",
      "    #print df11\n",
      "    #print df22\n",
      "    return [df11,df22]"
     ],
     "language": "python",
     "metadata": {},
     "outputs": [],
     "prompt_number": 6
    },
    {
     "cell_type": "code",
     "collapsed": false,
     "input": [
      "\n",
      "def find_cosine_distance(user_id_1,user_id_2):\n",
      "    df1 = ratings[ratings['user_id']==user_id_1] # Dataframe for user-1\n",
      "    df2 = ratings[ratings['user_id']==user_id_2] # Dataframe for user-2\n",
      "    [df11_1,df22_2] = find_intersection(df1,df2)\n",
      "    #ax = df11_1.item_id.hist()\n",
      "    #bx = df22_2.item_id.hist()\n",
      "    cosine_distance = scipy.spatial.distance.cosine(df11_1.rating.values,df22_2.rating.values)\n",
      "    return cosine_distance"
     ],
     "language": "python",
     "metadata": {},
     "outputs": [],
     "prompt_number": 7
    },
    {
     "cell_type": "code",
     "collapsed": false,
     "input": [
      "# Lets calulate cosine as similarity measure\n",
      "cosine_similarity =np.zeros((users,users))\n",
      "for i in range(1,943):\n",
      "    for j in range(i+1,943):\n",
      "        value = find_cosine_distance(i,j) # Initially value is computed for UT matrix and than copied LT as both are symmetrical\n",
      "        cosine_similarity[i,j] = value\n",
      "        cosine_similarity[j,i] = value\n",
      "        #print i,j\n",
      "        #print value\n",
      "#print cosine_similarity[:,:]"
     ],
     "language": "python",
     "metadata": {},
     "outputs": [],
     "prompt_number": 11
    },
    {
     "cell_type": "code",
     "collapsed": false,
     "input": [
      "numpy.savetxt(\"cosine_similarity_updated.csv\",cosine_similarity, delimiter=\",\",fmt =('%2.5'))"
     ],
     "language": "python",
     "metadata": {},
     "outputs": [
      {
       "ename": "ValueError",
       "evalue": "unsupported format character ',' (0x2c) at index 4",
       "output_type": "pyerr",
       "traceback": [
        "\u001b[1;31m---------------------------------------------------------------------------\u001b[0m\n\u001b[1;31mValueError\u001b[0m                                Traceback (most recent call last)",
        "\u001b[1;32m<ipython-input-20-c8f48c59b1c5>\u001b[0m in \u001b[0;36m<module>\u001b[1;34m()\u001b[0m\n\u001b[1;32m----> 1\u001b[1;33m \u001b[0mnumpy\u001b[0m\u001b[1;33m.\u001b[0m\u001b[0msavetxt\u001b[0m\u001b[1;33m(\u001b[0m\u001b[1;34m\"cosine_similarity_updated.csv\"\u001b[0m\u001b[1;33m,\u001b[0m\u001b[0mcosine_similarity\u001b[0m\u001b[1;33m,\u001b[0m \u001b[0mdelimiter\u001b[0m\u001b[1;33m=\u001b[0m\u001b[1;34m\",\"\u001b[0m\u001b[1;33m,\u001b[0m\u001b[0mfmt\u001b[0m \u001b[1;33m=\u001b[0m\u001b[1;33m(\u001b[0m\u001b[1;34m'%2.5'\u001b[0m\u001b[1;33m)\u001b[0m\u001b[1;33m)\u001b[0m\u001b[1;33m\u001b[0m\u001b[0m\n\u001b[0m",
        "\u001b[1;32mC:\\Users\\Omkar\\AppData\\Local\\Enthought\\Canopy\\User\\lib\\site-packages\\numpy\\lib\\npyio.pyc\u001b[0m in \u001b[0;36msavetxt\u001b[1;34m(fname, X, fmt, delimiter, newline, header, footer, comments)\u001b[0m\n\u001b[0;32m   1045\u001b[0m         \u001b[1;32melse\u001b[0m\u001b[1;33m:\u001b[0m\u001b[1;33m\u001b[0m\u001b[0m\n\u001b[0;32m   1046\u001b[0m             \u001b[1;32mfor\u001b[0m \u001b[0mrow\u001b[0m \u001b[1;32min\u001b[0m \u001b[0mX\u001b[0m\u001b[1;33m:\u001b[0m\u001b[1;33m\u001b[0m\u001b[0m\n\u001b[1;32m-> 1047\u001b[1;33m                 \u001b[0mfh\u001b[0m\u001b[1;33m.\u001b[0m\u001b[0mwrite\u001b[0m\u001b[1;33m(\u001b[0m\u001b[0masbytes\u001b[0m\u001b[1;33m(\u001b[0m\u001b[0mformat\u001b[0m \u001b[1;33m%\u001b[0m \u001b[0mtuple\u001b[0m\u001b[1;33m(\u001b[0m\u001b[0mrow\u001b[0m\u001b[1;33m)\u001b[0m \u001b[1;33m+\u001b[0m \u001b[0mnewline\u001b[0m\u001b[1;33m)\u001b[0m\u001b[1;33m)\u001b[0m\u001b[1;33m\u001b[0m\u001b[0m\n\u001b[0m\u001b[0;32m   1048\u001b[0m         \u001b[1;32mif\u001b[0m \u001b[0mlen\u001b[0m\u001b[1;33m(\u001b[0m\u001b[0mfooter\u001b[0m\u001b[1;33m)\u001b[0m \u001b[1;33m>\u001b[0m \u001b[1;36m0\u001b[0m\u001b[1;33m:\u001b[0m\u001b[1;33m\u001b[0m\u001b[0m\n\u001b[0;32m   1049\u001b[0m             \u001b[0mfooter\u001b[0m \u001b[1;33m=\u001b[0m \u001b[0mfooter\u001b[0m\u001b[1;33m.\u001b[0m\u001b[0mreplace\u001b[0m\u001b[1;33m(\u001b[0m\u001b[1;34m'\\n'\u001b[0m\u001b[1;33m,\u001b[0m \u001b[1;34m'\\n'\u001b[0m \u001b[1;33m+\u001b[0m \u001b[0mcomments\u001b[0m\u001b[1;33m)\u001b[0m\u001b[1;33m\u001b[0m\u001b[0m\n",
        "\u001b[1;31mValueError\u001b[0m: unsupported format character ',' (0x2c) at index 4"
       ]
      }
     ],
     "prompt_number": 20
    },
    {
     "cell_type": "code",
     "collapsed": false,
     "input": [],
     "language": "python",
     "metadata": {},
     "outputs": []
    }
   ],
   "metadata": {}
  }
 ]
}